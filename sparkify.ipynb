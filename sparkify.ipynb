{
 "cells": [
  {
   "cell_type": "code",
   "execution_count": 28,
   "metadata": {},
   "outputs": [],
   "source": [
    "import findspark\n",
    "findspark.init('C:/spark-2.3.2-bin-hadoop2.7')\n",
    "\n",
    "import pandas as pd\n",
    "import numpy as np\n",
    "import matplotlib.pyplot as plt\n",
    "\n",
    "import warnings\n",
    "warnings.filterwarnings('ignore')\n",
    "%matplotlib inline"
   ]
  },
  {
   "cell_type": "code",
   "execution_count": 83,
   "metadata": {},
   "outputs": [],
   "source": [
    "# importing necessary libraries and initialising the data path\n",
    "from pyspark.sql import SparkSession\n",
    "from pyspark.sql.functions import udf, col, avg, desc,countDistinct, count\n",
    "\n",
    "data_dir = 'C:/Users/John/PycharmProjects/Capstone/'"
   ]
  },
  {
   "cell_type": "code",
   "execution_count": 23,
   "metadata": {},
   "outputs": [],
   "source": [
    "# creating a spark session\n",
    "spark = SparkSession.builder.master('local').appName(\"capstone_project\").getOrCreate()"
   ]
  },
  {
   "cell_type": "code",
   "execution_count": 24,
   "metadata": {},
   "outputs": [
    {
     "data": {
      "text/plain": [
       "DataFrame[artist: string, auth: string, firstName: string, gender: string, itemInSession: bigint, lastName: string, length: double, level: string, location: string, method: string, page: string, registration: bigint, sessionId: bigint, song: string, status: bigint, ts: bigint, userAgent: string, userId: string]"
      ]
     },
     "execution_count": 24,
     "metadata": {},
     "output_type": "execute_result"
    }
   ],
   "source": [
    "# reading in the data\n",
    "df = spark.read.json(data_dir + 'mini_sparkify_event_data.json')\n",
    "df.persist()"
   ]
  },
  {
   "cell_type": "markdown",
   "metadata": {},
   "source": [
    "# Now that we have loaded the data, Let's do some Exploratory Data Analysis(EDA) to get a feel for the data."
   ]
  },
  {
   "cell_type": "code",
   "execution_count": 25,
   "metadata": {},
   "outputs": [
    {
     "name": "stdout",
     "output_type": "stream",
     "text": [
      "the total number of records and features in the dataframe is: 286500 and 18\n"
     ]
    }
   ],
   "source": [
    "# the total number of records and features in the dataframe\n",
    "n_record = df.count()\n",
    "n_col = len(df.columns)\n",
    "print('the total number of records and features in the dataframe is: {} and {}'.format(n_record, n_col))"
   ]
  },
  {
   "cell_type": "code",
   "execution_count": 26,
   "metadata": {},
   "outputs": [
    {
     "name": "stdout",
     "output_type": "stream",
     "text": [
      "root\n",
      " |-- artist: string (nullable = true)\n",
      " |-- auth: string (nullable = true)\n",
      " |-- firstName: string (nullable = true)\n",
      " |-- gender: string (nullable = true)\n",
      " |-- itemInSession: long (nullable = true)\n",
      " |-- lastName: string (nullable = true)\n",
      " |-- length: double (nullable = true)\n",
      " |-- level: string (nullable = true)\n",
      " |-- location: string (nullable = true)\n",
      " |-- method: string (nullable = true)\n",
      " |-- page: string (nullable = true)\n",
      " |-- registration: long (nullable = true)\n",
      " |-- sessionId: long (nullable = true)\n",
      " |-- song: string (nullable = true)\n",
      " |-- status: long (nullable = true)\n",
      " |-- ts: long (nullable = true)\n",
      " |-- userAgent: string (nullable = true)\n",
      " |-- userId: string (nullable = true)\n",
      "\n"
     ]
    }
   ],
   "source": [
    "# Lets see the columns and their data types.\n",
    "# we can safely leave out firstName, lastName, \n",
    "df.printSchema()"
   ]
  },
  {
   "cell_type": "code",
   "execution_count": 29,
   "metadata": {},
   "outputs": [
    {
     "data": {
      "text/html": [
       "<div>\n",
       "<style scoped>\n",
       "    .dataframe tbody tr th:only-of-type {\n",
       "        vertical-align: middle;\n",
       "    }\n",
       "\n",
       "    .dataframe tbody tr th {\n",
       "        vertical-align: top;\n",
       "    }\n",
       "\n",
       "    .dataframe thead th {\n",
       "        text-align: right;\n",
       "    }\n",
       "</style>\n",
       "<table border=\"1\" class=\"dataframe\">\n",
       "  <thead>\n",
       "    <tr style=\"text-align: right;\">\n",
       "      <th></th>\n",
       "      <th>summary</th>\n",
       "      <th>artist</th>\n",
       "      <th>auth</th>\n",
       "      <th>firstName</th>\n",
       "      <th>gender</th>\n",
       "      <th>itemInSession</th>\n",
       "      <th>lastName</th>\n",
       "      <th>length</th>\n",
       "      <th>level</th>\n",
       "      <th>location</th>\n",
       "      <th>method</th>\n",
       "      <th>page</th>\n",
       "      <th>registration</th>\n",
       "      <th>sessionId</th>\n",
       "      <th>song</th>\n",
       "      <th>status</th>\n",
       "      <th>ts</th>\n",
       "      <th>userAgent</th>\n",
       "      <th>userId</th>\n",
       "    </tr>\n",
       "  </thead>\n",
       "  <tbody>\n",
       "    <tr>\n",
       "      <th>0</th>\n",
       "      <td>count</td>\n",
       "      <td>228108</td>\n",
       "      <td>286500</td>\n",
       "      <td>278154</td>\n",
       "      <td>278154</td>\n",
       "      <td>286500</td>\n",
       "      <td>278154</td>\n",
       "      <td>228108</td>\n",
       "      <td>286500</td>\n",
       "      <td>278154</td>\n",
       "      <td>286500</td>\n",
       "      <td>286500</td>\n",
       "      <td>278154</td>\n",
       "      <td>286500</td>\n",
       "      <td>228108</td>\n",
       "      <td>286500</td>\n",
       "      <td>286500</td>\n",
       "      <td>278154</td>\n",
       "      <td>286500</td>\n",
       "    </tr>\n",
       "    <tr>\n",
       "      <th>1</th>\n",
       "      <td>mean</td>\n",
       "      <td>551.0852017937219</td>\n",
       "      <td>None</td>\n",
       "      <td>None</td>\n",
       "      <td>None</td>\n",
       "      <td>114.41421291448516</td>\n",
       "      <td>None</td>\n",
       "      <td>249.11718197783722</td>\n",
       "      <td>None</td>\n",
       "      <td>None</td>\n",
       "      <td>None</td>\n",
       "      <td>None</td>\n",
       "      <td>1.535358834085557E12</td>\n",
       "      <td>1041.526554973822</td>\n",
       "      <td>Infinity</td>\n",
       "      <td>210.05459685863875</td>\n",
       "      <td>1.5409568898104714E12</td>\n",
       "      <td>None</td>\n",
       "      <td>59682.02278593872</td>\n",
       "    </tr>\n",
       "    <tr>\n",
       "      <th>2</th>\n",
       "      <td>stddev</td>\n",
       "      <td>1217.7693079161374</td>\n",
       "      <td>None</td>\n",
       "      <td>None</td>\n",
       "      <td>None</td>\n",
       "      <td>129.76726201141085</td>\n",
       "      <td>None</td>\n",
       "      <td>99.23517921058324</td>\n",
       "      <td>None</td>\n",
       "      <td>None</td>\n",
       "      <td>None</td>\n",
       "      <td>None</td>\n",
       "      <td>3.291321616328068E9</td>\n",
       "      <td>726.7762634630834</td>\n",
       "      <td>NaN</td>\n",
       "      <td>31.50507848842202</td>\n",
       "      <td>1.5075439608187113E9</td>\n",
       "      <td>None</td>\n",
       "      <td>109091.94999910519</td>\n",
       "    </tr>\n",
       "    <tr>\n",
       "      <th>3</th>\n",
       "      <td>min</td>\n",
       "      <td>!!!</td>\n",
       "      <td>Cancelled</td>\n",
       "      <td>Adelaida</td>\n",
       "      <td>F</td>\n",
       "      <td>0</td>\n",
       "      <td>Adams</td>\n",
       "      <td>0.78322</td>\n",
       "      <td>free</td>\n",
       "      <td>Albany, OR</td>\n",
       "      <td>GET</td>\n",
       "      <td>About</td>\n",
       "      <td>1521380675000</td>\n",
       "      <td>1</td>\n",
       "      <td>ÃÂg ÃÂtti GrÃÂ¡a ÃÂsku</td>\n",
       "      <td>200</td>\n",
       "      <td>1538352117000</td>\n",
       "      <td>\"Mozilla/5.0 (Macintosh; Intel Mac OS X 10_10)...</td>\n",
       "      <td></td>\n",
       "    </tr>\n",
       "    <tr>\n",
       "      <th>4</th>\n",
       "      <td>max</td>\n",
       "      <td>ÃÂlafur Arnalds</td>\n",
       "      <td>Logged Out</td>\n",
       "      <td>Zyonna</td>\n",
       "      <td>M</td>\n",
       "      <td>1321</td>\n",
       "      <td>Wright</td>\n",
       "      <td>3024.66567</td>\n",
       "      <td>paid</td>\n",
       "      <td>Winston-Salem, NC</td>\n",
       "      <td>PUT</td>\n",
       "      <td>Upgrade</td>\n",
       "      <td>1543247354000</td>\n",
       "      <td>2474</td>\n",
       "      <td>ÃÂau hafa sloppiÃÂ° undan ÃÂ¾unga myrkursins</td>\n",
       "      <td>404</td>\n",
       "      <td>1543799476000</td>\n",
       "      <td>Mozilla/5.0 (compatible; MSIE 9.0; Windows NT ...</td>\n",
       "      <td>99</td>\n",
       "    </tr>\n",
       "  </tbody>\n",
       "</table>\n",
       "</div>"
      ],
      "text/plain": [
       "  summary              artist        auth firstName  gender  \\\n",
       "0   count              228108      286500    278154  278154   \n",
       "1    mean   551.0852017937219        None      None    None   \n",
       "2  stddev  1217.7693079161374        None      None    None   \n",
       "3     min                 !!!   Cancelled  Adelaida       F   \n",
       "4     max   ÃÂlafur Arnalds  Logged Out    Zyonna       M   \n",
       "\n",
       "        itemInSession lastName              length   level           location  \\\n",
       "0              286500   278154              228108  286500             278154   \n",
       "1  114.41421291448516     None  249.11718197783722    None               None   \n",
       "2  129.76726201141085     None   99.23517921058324    None               None   \n",
       "3                   0    Adams             0.78322    free         Albany, OR   \n",
       "4                1321   Wright          3024.66567    paid  Winston-Salem, NC   \n",
       "\n",
       "   method     page          registration          sessionId  \\\n",
       "0  286500   286500                278154             286500   \n",
       "1    None     None  1.535358834085557E12  1041.526554973822   \n",
       "2    None     None   3.291321616328068E9  726.7762634630834   \n",
       "3     GET    About         1521380675000                  1   \n",
       "4     PUT  Upgrade         1543247354000               2474   \n",
       "\n",
       "                                               song              status  \\\n",
       "0                                            228108              286500   \n",
       "1                                          Infinity  210.05459685863875   \n",
       "2                                               NaN   31.50507848842202   \n",
       "3                    \n",
       "ÃÂg ÃÂtti GrÃÂ¡a ÃÂsku                 200   \n",
       "4  ÃÂau hafa sloppiÃÂ° undan ÃÂ¾unga myrkursins                 404   \n",
       "\n",
       "                      ts                                          userAgent  \\\n",
       "0                 286500                                             278154   \n",
       "1  1.5409568898104714E12                                               None   \n",
       "2   1.5075439608187113E9                                               None   \n",
       "3          1538352117000  \"Mozilla/5.0 (Macintosh; Intel Mac OS X 10_10)...   \n",
       "4          1543799476000  Mozilla/5.0 (compatible; MSIE 9.0; Windows NT ...   \n",
       "\n",
       "               userId  \n",
       "0              286500  \n",
       "1   59682.02278593872  \n",
       "2  109091.94999910519  \n",
       "3                      \n",
       "4                  99  "
      ]
     },
     "execution_count": 29,
     "metadata": {},
     "output_type": "execute_result"
    }
   ],
   "source": [
    "# Lets see the summary of the columns in this dataframe\n",
    "df.describe().toPandas()"
   ]
  },
  {
   "cell_type": "markdown",
   "metadata": {},
   "source": [
    "**Lets first scrutnize the 'artist' column and see if this could be used as features. However, it is likely that there will be lost of unique artists which will make using this column as a feature unworkable.**"
   ]
  },
  {
   "cell_type": "code",
   "execution_count": 115,
   "metadata": {},
   "outputs": [
    {
     "name": "stdout",
     "output_type": "stream",
     "text": [
      "the number of artists present in the dataframe is 17655\n"
     ]
    }
   ],
   "source": [
    "# Lets find out how many unique artists are there.\n",
    "n_of_artists = df.filter((col('artist').isNotNull()) & (col('artist') != '')).select(col('artist')).dropDuplicates().count()\n",
    "print('the number of artists present in the dataframe is {}'.format(n_of_artists))"
   ]
  },
  {
   "cell_type": "markdown",
   "metadata": {},
   "source": [
    "**There are way too many artists, so we can't use this column as a feature just as we suspected.**"
   ]
  },
  {
   "cell_type": "code",
   "execution_count": 31,
   "metadata": {},
   "outputs": [],
   "source": [
    "# Creates database table for SQL mode.\n",
    "df.createOrReplaceTempView('df_table')"
   ]
  },
  {
   "cell_type": "code",
   "execution_count": 124,
   "metadata": {},
   "outputs": [
    {
     "name": "stdout",
     "output_type": "stream",
     "text": [
      "+----------+\n",
      "|      auth|\n",
      "+----------+\n",
      "|Logged Out|\n",
      "| Cancelled|\n",
      "|     Guest|\n",
      "| Logged In|\n",
      "+----------+\n",
      "\n"
     ]
    }
   ],
   "source": [
    "# Lets poke the 'auth' column a bit and find out what it has to offer.\n",
    "# First lets find out what are the unique values in 'auth' column\n",
    "df.select('auth').filter((col('auth').isNotNull()) & (col('auth') != '')).dropDuplicates().show()"
   ]
  },
  {
   "cell_type": "markdown",
   "metadata": {},
   "source": [
    "**Looks like 'auth' is authentication type. Here Cancelled, probably, means churn. Since we are trying to predict user churn, just for the fun of it lets figure out what is the churn ratio for the dataset.**"
   ]
  },
  {
   "cell_type": "code",
   "execution_count": 135,
   "metadata": {},
   "outputs": [
    {
     "name": "stdout",
     "output_type": "stream",
     "text": [
      "+---------+-----------------+\n",
      "|     auth|unique_user_count|\n",
      "+---------+-----------------+\n",
      "|Logged In|              225|\n",
      "|Cancelled|               52|\n",
      "+---------+-----------------+\n",
      "\n",
      "The number of users registered: 225 and the number of users left: 52 with a churn ratio of: 0.23\n"
     ]
    }
   ],
   "source": [
    "# Dataframe method\n",
    "# df.filter((col('userId').isNotNull()) & (col('userId') != '')).groupby('auth').agg(countDistinct('userId').alias('unique_user_count')).show()\n",
    "\n",
    "# SQL method\n",
    "df_auth = spark.sql('''\n",
    "    SELECT auth, COUNT(DISTINCT userId) as unique_user_count\n",
    "    FROM df_table  \n",
    "    WHERE userId IS NOT NULL AND userID != ''\n",
    "    GROUP BY auth\n",
    "    ORDER BY unique_user_count DESC\n",
    "''')\n",
    "\n",
    "df_auth.show()\n",
    "\n",
    "n_users_registered = df_auth.filter(col('auth') == 'Logged In').select('unique_user_count').first()[0]\n",
    "n_users_left = df_auth.filter(col('auth') == 'Cancelled').select('unique_user_count').first()[0]\n",
    "\n",
    "print('The number of users registered: {} and the number of users left: {} with a churn ratio of: {}'\\\n",
    "                      .format(n_users_registered,n_users_left,round((n_users_left/n_users_registered),2)))\n"
   ]
  },
  {
   "cell_type": "markdown",
   "metadata": {},
   "source": [
    "**We can't figure out if the users that left came back again for the service with any certainity as we are not sure when the user comes back he is assigned the same user id as before. It would have been interesting to find that out though.**"
   ]
  },
  {
   "cell_type": "code",
   "execution_count": 142,
   "metadata": {},
   "outputs": [
    {
     "name": "stdout",
     "output_type": "stream",
     "text": [
      "the number of unique values in the page column is: 22\n"
     ]
    },
    {
     "data": {
      "text/html": [
       "<div>\n",
       "<style scoped>\n",
       "    .dataframe tbody tr th:only-of-type {\n",
       "        vertical-align: middle;\n",
       "    }\n",
       "\n",
       "    .dataframe tbody tr th {\n",
       "        vertical-align: top;\n",
       "    }\n",
       "\n",
       "    .dataframe thead th {\n",
       "        text-align: right;\n",
       "    }\n",
       "</style>\n",
       "<table border=\"1\" class=\"dataframe\">\n",
       "  <thead>\n",
       "    <tr style=\"text-align: right;\">\n",
       "      <th></th>\n",
       "      <th>page</th>\n",
       "    </tr>\n",
       "  </thead>\n",
       "  <tbody>\n",
       "    <tr>\n",
       "      <th>0</th>\n",
       "      <td>Cancel</td>\n",
       "    </tr>\n",
       "    <tr>\n",
       "      <th>1</th>\n",
       "      <td>Submit Downgrade</td>\n",
       "    </tr>\n",
       "    <tr>\n",
       "      <th>2</th>\n",
       "      <td>Thumbs Down</td>\n",
       "    </tr>\n",
       "    <tr>\n",
       "      <th>3</th>\n",
       "      <td>Home</td>\n",
       "    </tr>\n",
       "    <tr>\n",
       "      <th>4</th>\n",
       "      <td>Downgrade</td>\n",
       "    </tr>\n",
       "    <tr>\n",
       "      <th>5</th>\n",
       "      <td>Roll Advert</td>\n",
       "    </tr>\n",
       "    <tr>\n",
       "      <th>6</th>\n",
       "      <td>Logout</td>\n",
       "    </tr>\n",
       "    <tr>\n",
       "      <th>7</th>\n",
       "      <td>Save Settings</td>\n",
       "    </tr>\n",
       "    <tr>\n",
       "      <th>8</th>\n",
       "      <td>Cancellation Confirmation</td>\n",
       "    </tr>\n",
       "    <tr>\n",
       "      <th>9</th>\n",
       "      <td>About</td>\n",
       "    </tr>\n",
       "    <tr>\n",
       "      <th>10</th>\n",
       "      <td>Submit Registration</td>\n",
       "    </tr>\n",
       "    <tr>\n",
       "      <th>11</th>\n",
       "      <td>Settings</td>\n",
       "    </tr>\n",
       "    <tr>\n",
       "      <th>12</th>\n",
       "      <td>Login</td>\n",
       "    </tr>\n",
       "    <tr>\n",
       "      <th>13</th>\n",
       "      <td>Register</td>\n",
       "    </tr>\n",
       "    <tr>\n",
       "      <th>14</th>\n",
       "      <td>Add to Playlist</td>\n",
       "    </tr>\n",
       "    <tr>\n",
       "      <th>15</th>\n",
       "      <td>Add Friend</td>\n",
       "    </tr>\n",
       "    <tr>\n",
       "      <th>16</th>\n",
       "      <td>NextSong</td>\n",
       "    </tr>\n",
       "    <tr>\n",
       "      <th>17</th>\n",
       "      <td>Thumbs Up</td>\n",
       "    </tr>\n",
       "    <tr>\n",
       "      <th>18</th>\n",
       "      <td>Help</td>\n",
       "    </tr>\n",
       "    <tr>\n",
       "      <th>19</th>\n",
       "      <td>Upgrade</td>\n",
       "    </tr>\n",
       "    <tr>\n",
       "      <th>20</th>\n",
       "      <td>Error</td>\n",
       "    </tr>\n",
       "    <tr>\n",
       "      <th>21</th>\n",
       "      <td>Submit Upgrade</td>\n",
       "    </tr>\n",
       "  </tbody>\n",
       "</table>\n",
       "</div>"
      ],
      "text/plain": [
       "                         page\n",
       "0                      Cancel\n",
       "1            Submit Downgrade\n",
       "2                 Thumbs Down\n",
       "3                        Home\n",
       "4                   Downgrade\n",
       "5                 Roll Advert\n",
       "6                      Logout\n",
       "7               Save Settings\n",
       "8   Cancellation Confirmation\n",
       "9                       About\n",
       "10        Submit Registration\n",
       "11                   Settings\n",
       "12                      Login\n",
       "13                   Register\n",
       "14            Add to Playlist\n",
       "15                 Add Friend\n",
       "16                   NextSong\n",
       "17                  Thumbs Up\n",
       "18                       Help\n",
       "19                    Upgrade\n",
       "20                      Error\n",
       "21             Submit Upgrade"
      ]
     },
     "execution_count": 142,
     "metadata": {},
     "output_type": "execute_result"
    }
   ],
   "source": [
    "# The next festure of interest is the 'page' column. Lets give it a whirl.\n",
    "# First lets find out what are the unique values in 'page' column\n",
    "# since 'page' column has no missing values, we need not filter out the NULL value or empty strings present in this row.\n",
    "df_page = df.select('page').filter((col('page').isNotNull()) & (col('page') != '')).dropDuplicates()\n",
    "print('the number of unique values in the page column is: {}'.format(df_page.count()))\n",
    "\n",
    "df_page.toPandas()"
   ]
  },
  {
   "cell_type": "markdown",
   "metadata": {},
   "source": [
    "**Looks like the dataset dutifully captures users every single interaction with the website. Right from the moment they logged in to the moment they left, every single page user visited or in other words every single click the user made has been captured.**"
   ]
  },
  {
   "cell_type": "markdown",
   "metadata": {},
   "source": [
    "**Also, notice that there is a value called 'Cancellation Confirmation' which also could be denoting customer churn. If we find out how many users clicked 'Cancellation Confirmation' and if it is the same as what we found in the 'auth' column then we can confirm that 'Cancellation Confirmation' definitely means user churn.**"
   ]
  },
  {
   "cell_type": "code",
   "execution_count": 150,
   "metadata": {},
   "outputs": [
    {
     "name": "stdout",
     "output_type": "stream",
     "text": [
      "If you seeing this that means \"Cancelled\" in auth column is the same as \"Cancellation Confirmation\" in page column\n"
     ]
    },
    {
     "data": {
      "text/html": [
       "<div>\n",
       "<style scoped>\n",
       "    .dataframe tbody tr th:only-of-type {\n",
       "        vertical-align: middle;\n",
       "    }\n",
       "\n",
       "    .dataframe tbody tr th {\n",
       "        vertical-align: top;\n",
       "    }\n",
       "\n",
       "    .dataframe thead th {\n",
       "        text-align: right;\n",
       "    }\n",
       "</style>\n",
       "<table border=\"1\" class=\"dataframe\">\n",
       "  <thead>\n",
       "    <tr style=\"text-align: right;\">\n",
       "      <th></th>\n",
       "      <th>page</th>\n",
       "      <th>count(DISTINCT userId)</th>\n",
       "    </tr>\n",
       "  </thead>\n",
       "  <tbody>\n",
       "    <tr>\n",
       "      <th>0</th>\n",
       "      <td>Cancel</td>\n",
       "      <td>52</td>\n",
       "    </tr>\n",
       "    <tr>\n",
       "      <th>1</th>\n",
       "      <td>Submit Downgrade</td>\n",
       "      <td>49</td>\n",
       "    </tr>\n",
       "    <tr>\n",
       "      <th>2</th>\n",
       "      <td>Thumbs Down</td>\n",
       "      <td>203</td>\n",
       "    </tr>\n",
       "    <tr>\n",
       "      <th>3</th>\n",
       "      <td>Home</td>\n",
       "      <td>223</td>\n",
       "    </tr>\n",
       "    <tr>\n",
       "      <th>4</th>\n",
       "      <td>Downgrade</td>\n",
       "      <td>154</td>\n",
       "    </tr>\n",
       "    <tr>\n",
       "      <th>5</th>\n",
       "      <td>Roll Advert</td>\n",
       "      <td>207</td>\n",
       "    </tr>\n",
       "    <tr>\n",
       "      <th>6</th>\n",
       "      <td>Logout</td>\n",
       "      <td>213</td>\n",
       "    </tr>\n",
       "    <tr>\n",
       "      <th>7</th>\n",
       "      <td>Save Settings</td>\n",
       "      <td>132</td>\n",
       "    </tr>\n",
       "    <tr>\n",
       "      <th>8</th>\n",
       "      <td>Cancellation Confirmation</td>\n",
       "      <td>52</td>\n",
       "    </tr>\n",
       "    <tr>\n",
       "      <th>9</th>\n",
       "      <td>About</td>\n",
       "      <td>155</td>\n",
       "    </tr>\n",
       "    <tr>\n",
       "      <th>10</th>\n",
       "      <td>Settings</td>\n",
       "      <td>195</td>\n",
       "    </tr>\n",
       "    <tr>\n",
       "      <th>11</th>\n",
       "      <td>Add to Playlist</td>\n",
       "      <td>215</td>\n",
       "    </tr>\n",
       "    <tr>\n",
       "      <th>12</th>\n",
       "      <td>Add Friend</td>\n",
       "      <td>206</td>\n",
       "    </tr>\n",
       "    <tr>\n",
       "      <th>13</th>\n",
       "      <td>NextSong</td>\n",
       "      <td>225</td>\n",
       "    </tr>\n",
       "    <tr>\n",
       "      <th>14</th>\n",
       "      <td>Thumbs Up</td>\n",
       "      <td>220</td>\n",
       "    </tr>\n",
       "    <tr>\n",
       "      <th>15</th>\n",
       "      <td>Help</td>\n",
       "      <td>192</td>\n",
       "    </tr>\n",
       "    <tr>\n",
       "      <th>16</th>\n",
       "      <td>Upgrade</td>\n",
       "      <td>168</td>\n",
       "    </tr>\n",
       "    <tr>\n",
       "      <th>17</th>\n",
       "      <td>Error</td>\n",
       "      <td>117</td>\n",
       "    </tr>\n",
       "    <tr>\n",
       "      <th>18</th>\n",
       "      <td>Submit Upgrade</td>\n",
       "      <td>131</td>\n",
       "    </tr>\n",
       "  </tbody>\n",
       "</table>\n",
       "</div>"
      ],
      "text/plain": [
       "                         page  count(DISTINCT userId)\n",
       "0                      Cancel                      52\n",
       "1            Submit Downgrade                      49\n",
       "2                 Thumbs Down                     203\n",
       "3                        Home                     223\n",
       "4                   Downgrade                     154\n",
       "5                 Roll Advert                     207\n",
       "6                      Logout                     213\n",
       "7               Save Settings                     132\n",
       "8   Cancellation Confirmation                      52\n",
       "9                       About                     155\n",
       "10                   Settings                     195\n",
       "11            Add to Playlist                     215\n",
       "12                 Add Friend                     206\n",
       "13                   NextSong                     225\n",
       "14                  Thumbs Up                     220\n",
       "15                       Help                     192\n",
       "16                    Upgrade                     168\n",
       "17                      Error                     117\n",
       "18             Submit Upgrade                     131"
      ]
     },
     "execution_count": 150,
     "metadata": {},
     "output_type": "execute_result"
    }
   ],
   "source": [
    "assert df.filter(df.auth == 'Cancelled').count() == df.filter(df.page == 'Cancellation Confirmation').count(),\"Oops, our assumption seems to be wrong\"\n",
    "print('If you seeing this that means \"Cancelled\" in auth column is the same as \"Cancellation Confirmation\" in page column')\n",
    "\n",
    "df.filter((col('userId').isNotNull()) & (col('userId') != '')).groupby('page').agg(countDistinct('userId')).toPandas()"
   ]
  },
  {
   "cell_type": "markdown",
   "metadata": {},
   "source": [
    "**I have a sneaking suspicion that any non-essential service will lose customers because of two major reasons. 1) Because the customer didn't like the service or any particular aspect of the service 2) Because the customer has a predisposition - This type of customers will leave even if the service is perfect and meets or exceeds their expectations. One of the  reason could be time consciousness(they don't want to spend a lot of time listening to music and they believe their time is being wasted because of this music service and they quit).**"
   ]
  },
  {
   "cell_type": "markdown",
   "metadata": {},
   "source": [
    "**The reason i am bringing this up is, what a customer does before he becomes a paid member(if at all he does) might have a strong correlation with what he does after he does **"
   ]
  },
  {
   "cell_type": "code",
   "execution_count": 108,
   "metadata": {},
   "outputs": [
    {
     "name": "stdout",
     "output_type": "stream",
     "text": [
      "+------+-----------------+\n",
      "|gender|       percentage|\n",
      "+------+-----------------+\n",
      "|     F|44.19642857142857|\n",
      "|     M|55.80357142857143|\n",
      "+------+-----------------+\n",
      "\n"
     ]
    }
   ],
   "source": [
    "# Lets scrutnize the gender column.\n",
    "# what is the proportion of male and female users\n",
    "spark.sql('''\n",
    "    SELECT T.gender, COUNT(*) * 100.0/ SUM(count(*)) OVER() AS percentage\n",
    "    FROM (SELECT DISTINCT userId, gender\n",
    "    FROM df_table\n",
    "    WHERE gender IS NOT NULL) AS T \n",
    "    GROUP BY T.gender    \n",
    "''').show()"
   ]
  },
  {
   "cell_type": "code",
   "execution_count": 38,
   "metadata": {},
   "outputs": [
    {
     "name": "stdout",
     "output_type": "stream",
     "text": [
      "the number of records in the df_no_missing is: 432877\n"
     ]
    }
   ],
   "source": [
    "# lets drop all the records that have any null value in any of the columns.\n",
    "df_no_missing = df.na.drop(how='any')\n",
    "n_df_no_missing = df_no_missing.count()\n",
    "print('the number of records in the df_no_missing is: {}'.format(n_df_no_missing))"
   ]
  },
  {
   "cell_type": "code",
   "execution_count": 39,
   "metadata": {},
   "outputs": [
    {
     "name": "stdout",
     "output_type": "stream",
     "text": [
      "the number of records that have artists present: 432877\n",
      "the number of records that doesnt have artists present: 110828\n"
     ]
    }
   ],
   "source": [
    "# Lets just scrutnize the 'artist' column. This column has 432877 non null records and the rest are null records.\n",
    "df_artist_exist = df.filter(col('artist').isNotNull() == True)\n",
    "df_artist_null = df.filter(col('artist').isNull() == True)\n",
    "n_artist_exist = df_artist_exist.count()\n",
    "n_artist_null = df_artist_null.count()\n",
    "print('the number of records that have artists present: {}'.format(n_artist_exist))\n",
    "print('the number of records that doesnt have artists present: {}'.format(n_artist_null))"
   ]
  },
  {
   "cell_type": "code",
   "execution_count": 40,
   "metadata": {},
   "outputs": [
    {
     "name": "stdout",
     "output_type": "stream",
     "text": [
      "The two data frames are equal\n"
     ]
    }
   ],
   "source": [
    "# lets check if the dataframes df_no_missing and df_artist_exist are the same or not\n",
    "\n",
    "a_prime = df_no_missing.groupBy(sorted(df_no_missing.columns)).count()\n",
    "b_prime = df_artist_exist.groupBy(sorted(df_artist_exist.columns)).count()\n",
    "\n",
    "assert a_prime.subtract(b_prime).count() == b_prime.subtract(a_prime).count() == 0, \"If you seeing this the two dataframes are not equal\"\n",
    "print(\"The two data frames are equal\")"
   ]
  },
  {
   "cell_type": "code",
   "execution_count": null,
   "metadata": {},
   "outputs": [],
   "source": []
  }
 ],
 "metadata": {
  "kernelspec": {
   "display_name": "Python [conda env:Anaconda3]",
   "language": "python",
   "name": "conda-env-Anaconda3-py"
  },
  "language_info": {
   "codemirror_mode": {
    "name": "ipython",
    "version": 3
   },
   "file_extension": ".py",
   "mimetype": "text/x-python",
   "name": "python",
   "nbconvert_exporter": "python",
   "pygments_lexer": "ipython3",
   "version": "3.6.5"
  }
 },
 "nbformat": 4,
 "nbformat_minor": 2
}
